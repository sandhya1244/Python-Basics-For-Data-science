{
 "cells": [
  {
   "cell_type": "raw",
   "id": "c448f5a3",
   "metadata": {},
   "source": [
    "#Append"
   ]
  },
  {
   "cell_type": "code",
   "execution_count": 15,
   "id": "108203dd",
   "metadata": {},
   "outputs": [
    {
     "data": {
      "text/plain": [
       "['eleven', 'seventeen', 'ninteen']"
      ]
     },
     "execution_count": 15,
     "metadata": {},
     "output_type": "execute_result"
    }
   ],
   "source": [
    "state=['eleven', 'seventeen' ,'ninteen']\n",
    "state"
   ]
  },
  {
   "cell_type": "code",
   "execution_count": 7,
   "id": "80524d66",
   "metadata": {},
   "outputs": [
    {
     "name": "stdout",
     "output_type": "stream",
     "text": [
      "['eleven', 'seventeen', 'ninteen', 'twenty']\n"
     ]
    }
   ],
   "source": [
    "state.append('twenty')\n",
    "print(state)"
   ]
  },
  {
   "cell_type": "code",
   "execution_count": null,
   "id": "84cd6dcb",
   "metadata": {},
   "outputs": [],
   "source": [
    "#count()"
   ]
  },
  {
   "cell_type": "code",
   "execution_count": 12,
   "id": "cd23c87d",
   "metadata": {},
   "outputs": [
    {
     "name": "stdout",
     "output_type": "stream",
     "text": [
      "2\n"
     ]
    }
   ],
   "source": [
    "Bag=['pencile','black', 'black', 'white jacket']\n",
    "numblack=Bag.count('black')\n",
    "print(numblack)"
   ]
  },
  {
   "cell_type": "code",
   "execution_count": 13,
   "id": "6ffe5a71",
   "metadata": {},
   "outputs": [],
   "source": [
    "#len\n"
   ]
  },
  {
   "cell_type": "code",
   "execution_count": null,
   "id": "8d710a5a",
   "metadata": {},
   "outputs": [],
   "source": [
    "lang=['nepali','hindi','urdu','english']"
   ]
  },
  {
   "cell_type": "code",
   "execution_count": 14,
   "id": "165c81c6",
   "metadata": {},
   "outputs": [
    {
     "name": "stdout",
     "output_type": "stream",
     "text": [
      "4\n"
     ]
    }
   ],
   "source": [
    "print(len(lang))"
   ]
  },
  {
   "cell_type": "code",
   "execution_count": 16,
   "id": "b858577b",
   "metadata": {},
   "outputs": [],
   "source": [
    "#sort"
   ]
  },
  {
   "cell_type": "code",
   "execution_count": 17,
   "id": "a8c2a5db",
   "metadata": {},
   "outputs": [],
   "source": [
    "item=[2,9,4,3,1,0]"
   ]
  },
  {
   "cell_type": "code",
   "execution_count": 18,
   "id": "001bd5b7",
   "metadata": {},
   "outputs": [],
   "source": [
    "item.sort()"
   ]
  },
  {
   "cell_type": "code",
   "execution_count": 19,
   "id": "068cb8da",
   "metadata": {},
   "outputs": [
    {
     "name": "stdout",
     "output_type": "stream",
     "text": [
      "[0, 1, 2, 3, 4, 9]\n"
     ]
    }
   ],
   "source": [
    "print(item)"
   ]
  },
  {
   "cell_type": "code",
   "execution_count": null,
   "id": "b68f8118",
   "metadata": {},
   "outputs": [],
   "source": []
  }
 ],
 "metadata": {
  "kernelspec": {
   "display_name": "Python 3 (ipykernel)",
   "language": "python",
   "name": "python3"
  },
  "language_info": {
   "codemirror_mode": {
    "name": "ipython",
    "version": 3
   },
   "file_extension": ".py",
   "mimetype": "text/x-python",
   "name": "python",
   "nbconvert_exporter": "python",
   "pygments_lexer": "ipython3",
   "version": "3.9.7"
  }
 },
 "nbformat": 4,
 "nbformat_minor": 5
}
