{
 "cells": [
  {
   "cell_type": "markdown",
   "id": "580c50fb",
   "metadata": {},
   "source": [
    "# data type in python"
   ]
  },
  {
   "cell_type": "code",
   "execution_count": 7,
   "id": "c7def1fb",
   "metadata": {},
   "outputs": [
    {
     "data": {
      "text/plain": [
       "int"
      ]
     },
     "execution_count": 7,
     "metadata": {},
     "output_type": "execute_result"
    }
   ],
   "source": [
    "a=12\n",
    "type(a)"
   ]
  },
  {
   "cell_type": "code",
   "execution_count": 2,
   "id": "f05fc81b",
   "metadata": {},
   "outputs": [
    {
     "data": {
      "text/plain": [
       "float"
      ]
     },
     "execution_count": 2,
     "metadata": {},
     "output_type": "execute_result"
    }
   ],
   "source": [
    "a=2.444444\n",
    "type(a)"
   ]
  },
  {
   "cell_type": "code",
   "execution_count": 4,
   "id": "e268e898",
   "metadata": {},
   "outputs": [
    {
     "data": {
      "text/plain": [
       "str"
      ]
     },
     "execution_count": 4,
     "metadata": {},
     "output_type": "execute_result"
    }
   ],
   "source": [
    "a=('sandhya')\n",
    "type(a)"
   ]
  },
  {
   "cell_type": "code",
   "execution_count": null,
   "id": "d17da486",
   "metadata": {},
   "outputs": [],
   "source": []
  },
  {
   "cell_type": "code",
   "execution_count": 9,
   "id": "1856666a",
   "metadata": {},
   "outputs": [
    {
     "name": "stdout",
     "output_type": "stream",
     "text": [
      "h\n"
     ]
    }
   ],
   "source": [
    "a=(\"usha karki\")\n",
    "print(a[2])\n"
   ]
  },
  {
   "cell_type": "code",
   "execution_count": 10,
   "id": "0eea1447",
   "metadata": {},
   "outputs": [],
   "source": [
    "#string slicing"
   ]
  },
  {
   "cell_type": "code",
   "execution_count": 12,
   "id": "ee8f5cf5",
   "metadata": {},
   "outputs": [
    {
     "name": "stdout",
     "output_type": "stream",
     "text": [
      "ndhya \n"
     ]
    }
   ],
   "source": [
    "a=\"sandhya karki\"\n",
    "print(a[2:8])"
   ]
  },
  {
   "cell_type": "code",
   "execution_count": 13,
   "id": "7b556780",
   "metadata": {},
   "outputs": [],
   "source": [
    "#negative indexing"
   ]
  },
  {
   "cell_type": "code",
   "execution_count": 16,
   "id": "a10d154a",
   "metadata": {},
   "outputs": [
    {
     "name": "stdout",
     "output_type": "stream",
     "text": [
      "ka\n"
     ]
    }
   ],
   "source": [
    "a=\"sandhya karki\"\n",
    "print(a[-5:-3])"
   ]
  },
  {
   "cell_type": "code",
   "execution_count": 17,
   "id": "1eba1b8a",
   "metadata": {},
   "outputs": [],
   "source": [
    "#string concatenation"
   ]
  },
  {
   "cell_type": "code",
   "execution_count": 20,
   "id": "bb07239e",
   "metadata": {},
   "outputs": [
    {
     "name": "stdout",
     "output_type": "stream",
     "text": [
      "python is awesome\n"
     ]
    }
   ],
   "source": [
    "x=\"python is \"\n",
    "y=\"awesome\"\n",
    "z=x+y\n",
    "print(z)\n"
   ]
  },
  {
   "cell_type": "code",
   "execution_count": 21,
   "id": "5dcd6b3e",
   "metadata": {},
   "outputs": [],
   "source": [
    "#string concatenation ,add space"
   ]
  },
  {
   "cell_type": "code",
   "execution_count": 38,
   "id": "a1d83b6a",
   "metadata": {},
   "outputs": [],
   "source": [
    "c=\"bc\""
   ]
  },
  {
   "cell_type": "code",
   "execution_count": 39,
   "id": "31c00bbb",
   "metadata": {},
   "outputs": [],
   "source": [
    "d=\"ge\""
   ]
  },
  {
   "cell_type": "code",
   "execution_count": 42,
   "id": "f7e9a0ad",
   "metadata": {},
   "outputs": [
    {
     "name": "stdout",
     "output_type": "stream",
     "text": [
      "bc ge\n"
     ]
    }
   ],
   "source": [
    "print(c + \" \" + d)"
   ]
  },
  {
   "cell_type": "code",
   "execution_count": null,
   "id": "bf2fb48f",
   "metadata": {},
   "outputs": [],
   "source": [
    "#string length"
   ]
  },
  {
   "cell_type": "code",
   "execution_count": 45,
   "id": "c5a1df5c",
   "metadata": {},
   "outputs": [
    {
     "name": "stdout",
     "output_type": "stream",
     "text": [
      "53\n"
     ]
    }
   ],
   "source": [
    "cv=\" Big tech companies are huge fans of neural networks.\"\n",
    "\n",
    "print(len(cv))"
   ]
  },
  {
   "cell_type": "code",
   "execution_count": null,
   "id": "a6f87208",
   "metadata": {},
   "outputs": [],
   "source": []
  },
  {
   "cell_type": "code",
   "execution_count": null,
   "id": "1fbdee31",
   "metadata": {},
   "outputs": [],
   "source": []
  }
 ],
 "metadata": {
  "kernelspec": {
   "display_name": "Python 3 (ipykernel)",
   "language": "python",
   "name": "python3"
  },
  "language_info": {
   "codemirror_mode": {
    "name": "ipython",
    "version": 3
   },
   "file_extension": ".py",
   "mimetype": "text/x-python",
   "name": "python",
   "nbconvert_exporter": "python",
   "pygments_lexer": "ipython3",
   "version": "3.9.7"
  }
 },
 "nbformat": 4,
 "nbformat_minor": 5
}
